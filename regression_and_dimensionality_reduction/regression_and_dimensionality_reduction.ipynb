{
 "cells": [
  {
   "attachments": {},
   "cell_type": "markdown",
   "metadata": {},
   "source": [
    "### Regression and Dimensionality Reduction"
   ]
  },
  {
   "cell_type": "code",
   "execution_count": 1,
   "metadata": {},
   "outputs": [],
   "source": [
    "import pandas as pd\n",
    "import numpy as np\n",
    "from sklearn.pipeline import Pipeline, make_pipeline, FeatureUnion\n",
    "from sklearn.compose import ColumnTransformer\n",
    "from sklearn.base import BaseEstimator, TransformerMixin\n",
    "from sklearn.preprocessing import StandardScaler, RobustScaler, FunctionTransformer\n",
    "from sklearn.model_selection import train_test_split, GridSearchCV\n",
    "import pickle\n",
    "import matplotlib.pyplot as plt\n",
    "%matplotlib inline\n",
    "\n",
    "# imports necessary for dimensionality reduction\n",
    "from sklearn.decomposition import PCA\n",
    "from sklearn.feature_selection import RFE\n",
    "from sklearn import svm\n",
    "\n",
    "# regression algorithms\n",
    "from sklearn.ensemble import RandomForestRegressor\n",
    "from sklearn.linear_model import LinearRegression\n",
    "from sklearn.ensemble import GradientBoostingRegressor\n",
    "\n",
    "# metrics for evaluating regression models\n",
    "from sklearn.metrics import mean_squared_error, mean_absolute_error, r2_score"
   ]
  },
  {
   "attachments": {},
   "cell_type": "markdown",
   "metadata": {},
   "source": [
    "## EDA\n",
    "\n",
    "We start with a brief EDA to check for missing values and outliers."
   ]
  },
  {
   "cell_type": "code",
   "execution_count": 2,
   "metadata": {},
   "outputs": [
    {
     "data": {
      "text/html": [
       "<div>\n",
       "<style scoped>\n",
       "    .dataframe tbody tr th:only-of-type {\n",
       "        vertical-align: middle;\n",
       "    }\n",
       "\n",
       "    .dataframe tbody tr th {\n",
       "        vertical-align: top;\n",
       "    }\n",
       "\n",
       "    .dataframe thead th {\n",
       "        text-align: right;\n",
       "    }\n",
       "</style>\n",
       "<table border=\"1\" class=\"dataframe\">\n",
       "  <thead>\n",
       "    <tr style=\"text-align: right;\">\n",
       "      <th></th>\n",
       "      <th>age</th>\n",
       "      <th>gender</th>\n",
       "      <th>bmi</th>\n",
       "      <th>children</th>\n",
       "      <th>smoker</th>\n",
       "      <th>region</th>\n",
       "      <th>insurance_cost</th>\n",
       "    </tr>\n",
       "  </thead>\n",
       "  <tbody>\n",
       "    <tr>\n",
       "      <th>0</th>\n",
       "      <td>18</td>\n",
       "      <td>male</td>\n",
       "      <td>33.770</td>\n",
       "      <td>1</td>\n",
       "      <td>no</td>\n",
       "      <td>southeast</td>\n",
       "      <td>1725.55230</td>\n",
       "    </tr>\n",
       "    <tr>\n",
       "      <th>1</th>\n",
       "      <td>18</td>\n",
       "      <td>male</td>\n",
       "      <td>34.100</td>\n",
       "      <td>0</td>\n",
       "      <td>no</td>\n",
       "      <td>southeast</td>\n",
       "      <td>1137.01100</td>\n",
       "    </tr>\n",
       "    <tr>\n",
       "      <th>2</th>\n",
       "      <td>18</td>\n",
       "      <td>female</td>\n",
       "      <td>26.315</td>\n",
       "      <td>0</td>\n",
       "      <td>no</td>\n",
       "      <td>northeast</td>\n",
       "      <td>2198.18985</td>\n",
       "    </tr>\n",
       "    <tr>\n",
       "      <th>3</th>\n",
       "      <td>18</td>\n",
       "      <td>female</td>\n",
       "      <td>38.665</td>\n",
       "      <td>2</td>\n",
       "      <td>no</td>\n",
       "      <td>northeast</td>\n",
       "      <td>3393.35635</td>\n",
       "    </tr>\n",
       "    <tr>\n",
       "      <th>4</th>\n",
       "      <td>18</td>\n",
       "      <td>female</td>\n",
       "      <td>35.625</td>\n",
       "      <td>0</td>\n",
       "      <td>no</td>\n",
       "      <td>northeast</td>\n",
       "      <td>2211.13075</td>\n",
       "    </tr>\n",
       "  </tbody>\n",
       "</table>\n",
       "</div>"
      ],
      "text/plain": [
       "   age  gender     bmi  children smoker     region  insurance_cost\n",
       "0   18    male  33.770         1     no  southeast      1725.55230\n",
       "1   18    male  34.100         0     no  southeast      1137.01100\n",
       "2   18  female  26.315         0     no  northeast      2198.18985\n",
       "3   18  female  38.665         2     no  northeast      3393.35635\n",
       "4   18  female  35.625         0     no  northeast      2211.13075"
      ]
     },
     "execution_count": 2,
     "metadata": {},
     "output_type": "execute_result"
    }
   ],
   "source": [
    "df = pd.read_csv(\"./insurance.csv\")\n",
    "df.head()"
   ]
  },
  {
   "cell_type": "code",
   "execution_count": 3,
   "metadata": {},
   "outputs": [
    {
     "data": {
      "text/html": [
       "<div>\n",
       "<style scoped>\n",
       "    .dataframe tbody tr th:only-of-type {\n",
       "        vertical-align: middle;\n",
       "    }\n",
       "\n",
       "    .dataframe tbody tr th {\n",
       "        vertical-align: top;\n",
       "    }\n",
       "\n",
       "    .dataframe thead th {\n",
       "        text-align: right;\n",
       "    }\n",
       "</style>\n",
       "<table border=\"1\" class=\"dataframe\">\n",
       "  <thead>\n",
       "    <tr style=\"text-align: right;\">\n",
       "      <th></th>\n",
       "      <th>age</th>\n",
       "      <th>gender</th>\n",
       "      <th>bmi</th>\n",
       "      <th>children</th>\n",
       "      <th>smoker</th>\n",
       "      <th>region</th>\n",
       "      <th>insurance_cost</th>\n",
       "    </tr>\n",
       "  </thead>\n",
       "  <tbody>\n",
       "    <tr>\n",
       "      <th>1333</th>\n",
       "      <td>64</td>\n",
       "      <td>female</td>\n",
       "      <td>31.825</td>\n",
       "      <td>2</td>\n",
       "      <td>no</td>\n",
       "      <td>northeast</td>\n",
       "      <td>16069.08475</td>\n",
       "    </tr>\n",
       "    <tr>\n",
       "      <th>1334</th>\n",
       "      <td>64</td>\n",
       "      <td>female</td>\n",
       "      <td>26.885</td>\n",
       "      <td>0</td>\n",
       "      <td>yes</td>\n",
       "      <td>northwest</td>\n",
       "      <td>29330.98315</td>\n",
       "    </tr>\n",
       "    <tr>\n",
       "      <th>1335</th>\n",
       "      <td>64</td>\n",
       "      <td>male</td>\n",
       "      <td>26.410</td>\n",
       "      <td>0</td>\n",
       "      <td>no</td>\n",
       "      <td>northeast</td>\n",
       "      <td>14394.55790</td>\n",
       "    </tr>\n",
       "    <tr>\n",
       "      <th>1336</th>\n",
       "      <td>64</td>\n",
       "      <td>male</td>\n",
       "      <td>36.960</td>\n",
       "      <td>2</td>\n",
       "      <td>yes</td>\n",
       "      <td>southeast</td>\n",
       "      <td>49577.66240</td>\n",
       "    </tr>\n",
       "    <tr>\n",
       "      <th>1337</th>\n",
       "      <td>64</td>\n",
       "      <td>male</td>\n",
       "      <td>23.760</td>\n",
       "      <td>0</td>\n",
       "      <td>yes</td>\n",
       "      <td>southeast</td>\n",
       "      <td>26926.51440</td>\n",
       "    </tr>\n",
       "  </tbody>\n",
       "</table>\n",
       "</div>"
      ],
      "text/plain": [
       "      age  gender     bmi  children smoker     region  insurance_cost\n",
       "1333   64  female  31.825         2     no  northeast     16069.08475\n",
       "1334   64  female  26.885         0    yes  northwest     29330.98315\n",
       "1335   64    male  26.410         0     no  northeast     14394.55790\n",
       "1336   64    male  36.960         2    yes  southeast     49577.66240\n",
       "1337   64    male  23.760         0    yes  southeast     26926.51440"
      ]
     },
     "execution_count": 3,
     "metadata": {},
     "output_type": "execute_result"
    }
   ],
   "source": [
    "df.tail()"
   ]
  },
  {
   "attachments": {},
   "cell_type": "markdown",
   "metadata": {},
   "source": [
    "#### Checking for missing data\n",
    "\n",
    "No obvious missing data such as null values."
   ]
  },
  {
   "cell_type": "code",
   "execution_count": 4,
   "metadata": {},
   "outputs": [
    {
     "data": {
      "text/plain": [
       "age               0\n",
       "gender            0\n",
       "bmi               0\n",
       "children          0\n",
       "smoker            0\n",
       "region            0\n",
       "insurance_cost    0\n",
       "dtype: int64"
      ]
     },
     "execution_count": 4,
     "metadata": {},
     "output_type": "execute_result"
    }
   ],
   "source": [
    "df.isna().sum()"
   ]
  },
  {
   "attachments": {},
   "cell_type": "markdown",
   "metadata": {},
   "source": [
    "#### Examine Categorical Data"
   ]
  },
  {
   "cell_type": "code",
   "execution_count": 5,
   "metadata": {},
   "outputs": [
    {
     "data": {
      "text/plain": [
       "male      676\n",
       "female    662\n",
       "Name: gender, dtype: int64"
      ]
     },
     "execution_count": 5,
     "metadata": {},
     "output_type": "execute_result"
    }
   ],
   "source": [
    "df['gender'].value_counts()"
   ]
  },
  {
   "cell_type": "code",
   "execution_count": 6,
   "metadata": {},
   "outputs": [
    {
     "data": {
      "text/plain": [
       "no     1064\n",
       "yes     274\n",
       "Name: smoker, dtype: int64"
      ]
     },
     "execution_count": 6,
     "metadata": {},
     "output_type": "execute_result"
    }
   ],
   "source": [
    "df['smoker'].value_counts()"
   ]
  },
  {
   "cell_type": "code",
   "execution_count": 7,
   "metadata": {},
   "outputs": [
    {
     "data": {
      "text/plain": [
       "southeast    364\n",
       "southwest    325\n",
       "northwest    325\n",
       "northeast    324\n",
       "Name: region, dtype: int64"
      ]
     },
     "execution_count": 7,
     "metadata": {},
     "output_type": "execute_result"
    }
   ],
   "source": [
    "df['region'].value_counts()"
   ]
  },
  {
   "cell_type": "code",
   "execution_count": 8,
   "metadata": {},
   "outputs": [],
   "source": [
    "# Change categorical data to binary data.\n",
    "\n",
    "gender_mapper = {'male': 1, 'female':0}\n",
    "smoker_mapper = {'yes': 1, 'no': 0}\n",
    "\n",
    "df['gender'] = df['gender'].replace(gender_mapper)\n",
    "df['smoker'] = df['smoker'].replace(smoker_mapper)\n",
    "\n"
   ]
  },
  {
   "cell_type": "code",
   "execution_count": 9,
   "metadata": {},
   "outputs": [],
   "source": [
    "# One hot encode region\n",
    "\n",
    "df = pd.get_dummies(df, columns=['region'], \n",
    "                        drop_first=True)"
   ]
  },
  {
   "attachments": {},
   "cell_type": "markdown",
   "metadata": {},
   "source": [
    "#### Check out numerical attributes\n",
    "\n",
    "The max value of BMI looks suspiciously high."
   ]
  },
  {
   "cell_type": "code",
   "execution_count": 10,
   "metadata": {},
   "outputs": [
    {
     "data": {
      "text/html": [
       "<div>\n",
       "<style scoped>\n",
       "    .dataframe tbody tr th:only-of-type {\n",
       "        vertical-align: middle;\n",
       "    }\n",
       "\n",
       "    .dataframe tbody tr th {\n",
       "        vertical-align: top;\n",
       "    }\n",
       "\n",
       "    .dataframe thead th {\n",
       "        text-align: right;\n",
       "    }\n",
       "</style>\n",
       "<table border=\"1\" class=\"dataframe\">\n",
       "  <thead>\n",
       "    <tr style=\"text-align: right;\">\n",
       "      <th></th>\n",
       "      <th>age</th>\n",
       "      <th>gender</th>\n",
       "      <th>bmi</th>\n",
       "      <th>children</th>\n",
       "      <th>smoker</th>\n",
       "      <th>insurance_cost</th>\n",
       "      <th>region_northwest</th>\n",
       "      <th>region_southeast</th>\n",
       "      <th>region_southwest</th>\n",
       "    </tr>\n",
       "  </thead>\n",
       "  <tbody>\n",
       "    <tr>\n",
       "      <th>count</th>\n",
       "      <td>1338.000000</td>\n",
       "      <td>1338.000000</td>\n",
       "      <td>1338.000000</td>\n",
       "      <td>1338.000000</td>\n",
       "      <td>1338.000000</td>\n",
       "      <td>1338.000000</td>\n",
       "      <td>1338.000000</td>\n",
       "      <td>1338.000000</td>\n",
       "      <td>1338.000000</td>\n",
       "    </tr>\n",
       "    <tr>\n",
       "      <th>mean</th>\n",
       "      <td>39.207025</td>\n",
       "      <td>0.505232</td>\n",
       "      <td>30.663397</td>\n",
       "      <td>1.094918</td>\n",
       "      <td>0.204783</td>\n",
       "      <td>13270.422265</td>\n",
       "      <td>0.242900</td>\n",
       "      <td>0.272048</td>\n",
       "      <td>0.242900</td>\n",
       "    </tr>\n",
       "    <tr>\n",
       "      <th>std</th>\n",
       "      <td>14.049960</td>\n",
       "      <td>0.500160</td>\n",
       "      <td>6.098187</td>\n",
       "      <td>1.205493</td>\n",
       "      <td>0.403694</td>\n",
       "      <td>12110.011237</td>\n",
       "      <td>0.428995</td>\n",
       "      <td>0.445181</td>\n",
       "      <td>0.428995</td>\n",
       "    </tr>\n",
       "    <tr>\n",
       "      <th>min</th>\n",
       "      <td>18.000000</td>\n",
       "      <td>0.000000</td>\n",
       "      <td>15.960000</td>\n",
       "      <td>0.000000</td>\n",
       "      <td>0.000000</td>\n",
       "      <td>1121.873900</td>\n",
       "      <td>0.000000</td>\n",
       "      <td>0.000000</td>\n",
       "      <td>0.000000</td>\n",
       "    </tr>\n",
       "    <tr>\n",
       "      <th>25%</th>\n",
       "      <td>27.000000</td>\n",
       "      <td>0.000000</td>\n",
       "      <td>26.296250</td>\n",
       "      <td>0.000000</td>\n",
       "      <td>0.000000</td>\n",
       "      <td>4740.287150</td>\n",
       "      <td>0.000000</td>\n",
       "      <td>0.000000</td>\n",
       "      <td>0.000000</td>\n",
       "    </tr>\n",
       "    <tr>\n",
       "      <th>50%</th>\n",
       "      <td>39.000000</td>\n",
       "      <td>1.000000</td>\n",
       "      <td>30.400000</td>\n",
       "      <td>1.000000</td>\n",
       "      <td>0.000000</td>\n",
       "      <td>9382.033000</td>\n",
       "      <td>0.000000</td>\n",
       "      <td>0.000000</td>\n",
       "      <td>0.000000</td>\n",
       "    </tr>\n",
       "    <tr>\n",
       "      <th>75%</th>\n",
       "      <td>51.000000</td>\n",
       "      <td>1.000000</td>\n",
       "      <td>34.693750</td>\n",
       "      <td>2.000000</td>\n",
       "      <td>0.000000</td>\n",
       "      <td>16639.912515</td>\n",
       "      <td>0.000000</td>\n",
       "      <td>1.000000</td>\n",
       "      <td>0.000000</td>\n",
       "    </tr>\n",
       "    <tr>\n",
       "      <th>max</th>\n",
       "      <td>64.000000</td>\n",
       "      <td>1.000000</td>\n",
       "      <td>53.130000</td>\n",
       "      <td>5.000000</td>\n",
       "      <td>1.000000</td>\n",
       "      <td>63770.428010</td>\n",
       "      <td>1.000000</td>\n",
       "      <td>1.000000</td>\n",
       "      <td>1.000000</td>\n",
       "    </tr>\n",
       "  </tbody>\n",
       "</table>\n",
       "</div>"
      ],
      "text/plain": [
       "               age       gender          bmi     children       smoker  \\\n",
       "count  1338.000000  1338.000000  1338.000000  1338.000000  1338.000000   \n",
       "mean     39.207025     0.505232    30.663397     1.094918     0.204783   \n",
       "std      14.049960     0.500160     6.098187     1.205493     0.403694   \n",
       "min      18.000000     0.000000    15.960000     0.000000     0.000000   \n",
       "25%      27.000000     0.000000    26.296250     0.000000     0.000000   \n",
       "50%      39.000000     1.000000    30.400000     1.000000     0.000000   \n",
       "75%      51.000000     1.000000    34.693750     2.000000     0.000000   \n",
       "max      64.000000     1.000000    53.130000     5.000000     1.000000   \n",
       "\n",
       "       insurance_cost  region_northwest  region_southeast  region_southwest  \n",
       "count     1338.000000       1338.000000       1338.000000       1338.000000  \n",
       "mean     13270.422265          0.242900          0.272048          0.242900  \n",
       "std      12110.011237          0.428995          0.445181          0.428995  \n",
       "min       1121.873900          0.000000          0.000000          0.000000  \n",
       "25%       4740.287150          0.000000          0.000000          0.000000  \n",
       "50%       9382.033000          0.000000          0.000000          0.000000  \n",
       "75%      16639.912515          0.000000          1.000000          0.000000  \n",
       "max      63770.428010          1.000000          1.000000          1.000000  "
      ]
     },
     "execution_count": 10,
     "metadata": {},
     "output_type": "execute_result"
    }
   ],
   "source": [
    "df.describe()"
   ]
  },
  {
   "cell_type": "code",
   "execution_count": 11,
   "metadata": {},
   "outputs": [
    {
     "data": {
      "image/png": "[encoded data removed]",
      "text/plain": [
       "<Figure size 2000x500 with 1 Axes>"
      ]
     },
     "metadata": {},
     "output_type": "display_data"
    }
   ],
   "source": [
    "df.boxplot(figsize=(20,5))\n",
    "plt.show()"
   ]
  },
  {
   "cell_type": "code",
   "execution_count": 12,
   "metadata": {},
   "outputs": [
    {
     "data": {
      "image/png": "[encoded data removed]",
      "text/plain": [
       "<Figure size 2000x500 with 1 Axes>"
      ]
     },
     "metadata": {},
     "output_type": "display_data"
    }
   ],
   "source": [
    "df[['bmi', 'age', 'children', 'gender', 'smoker']].boxplot(figsize=(20,5))\n",
    "plt.show()"
   ]
  },
  {
   "attachments": {},
   "cell_type": "markdown",
   "metadata": {},
   "source": [
    "Our target variable insurance_cost has the most outliers."
   ]
  },
  {
   "cell_type": "code",
   "execution_count": 13,
   "metadata": {},
   "outputs": [
    {
     "data": {
      "image/png": "[encoded data removed]",
      "text/plain": [
       "<Figure size 1000x500 with 1 Axes>"
      ]
     },
     "metadata": {},
     "output_type": "display_data"
    }
   ],
   "source": [
    "df[['insurance_cost']].boxplot(figsize=(10,5))\n",
    "plt.show()"
   ]
  },
  {
   "attachments": {},
   "cell_type": "markdown",
   "metadata": {},
   "source": [
    "Initially I thought that the high values of BMI might be invalid data, however looking at the box plot it is not too far outside the normal range.  "
   ]
  },
  {
   "cell_type": "code",
   "execution_count": 14,
   "metadata": {},
   "outputs": [
    {
     "data": {
      "image/png": "[encoded data removed]",
      "text/plain": [
       "<Figure size 1000x500 with 1 Axes>"
      ]
     },
     "metadata": {},
     "output_type": "display_data"
    }
   ],
   "source": [
    "df[['bmi']].boxplot(figsize=(10,5))\n",
    "plt.show()"
   ]
  },
  {
   "attachments": {},
   "cell_type": "markdown",
   "metadata": {},
   "source": [
    "As there are outliers make a preprocess pipeline that handles this."
   ]
  },
  {
   "cell_type": "code",
   "execution_count": 15,
   "metadata": {},
   "outputs": [],
   "source": [
    "# Define a custom transformer class 'AddColumnNames' which inherits from BaseEstimator and TransformerMixin classes\n",
    "class AddColumnNames(BaseEstimator, TransformerMixin):\n",
    "\n",
    "    # Initialize the class object with input parameter 'columns'\n",
    "    def __init__(self, columns):\n",
    "        self.columns = columns\n",
    "\n",
    "    # Define the fit method that returns 'self'\n",
    "    def fit(self, X, y=None):\n",
    "        return self\n",
    "\n",
    "    # Define the transform method to add column names to the input data and return as pandas dataframe\n",
    "    def transform(self, X):\n",
    "        return pd.DataFrame(data=X, columns=self.columns)"
   ]
  },
  {
   "cell_type": "code",
   "execution_count": 16,
   "metadata": {},
   "outputs": [],
   "source": [
    "# Define a custom transformer class 'ColumnSelector' which inherits from BaseEstimator and TransformerMixin classes\n",
    "class ColumnSelector(BaseEstimator, TransformerMixin):\n",
    "\n",
    "    # Initialize the class object with input parameter 'columns'\n",
    "    def __init__(self, columns):\n",
    "        self.columns = columns\n",
    "\n",
    "    # Define the fit method that returns 'self'\n",
    "    def fit(self, X, y=None):\n",
    "        return self\n",
    "\n",
    "    # Define the transform method to select the specified columns from the input data\n",
    "    def transform(self, X):\n",
    "        # Check if input is a pandas dataframe\n",
    "        assert isinstance(X, pd.DataFrame)\n",
    "        # Select the specified columns from the input data and return as pandas dataframe\n",
    "        return X[self.columns]"
   ]
  },
  {
   "attachments": {},
   "cell_type": "markdown",
   "metadata": {},
   "source": [
    "This step creates lists for features that have outliers and features that do not. \n",
    "\n",
    "These will be treated differently in the preprocessing pipeline."
   ]
  },
  {
   "cell_type": "code",
   "execution_count": 17,
   "metadata": {},
   "outputs": [],
   "source": [
    "# Create a list of all column names except 'insurance_cost' our target variable\n",
    "names_all = list(df.drop(['insurance_cost'], axis=1).columns)\n",
    "\n",
    "# Define column groups with same data preparation\n",
    "# Create a list of column names to be treated as outliers\n",
    "names_outliers = ['bmi']\n",
    "# Create a list of column names to be treated without outliers (using set difference operation)\n",
    "names_no_outliers = list(set(names_all) - set(names_outliers))"
   ]
  },
  {
   "cell_type": "code",
   "execution_count": 18,
   "metadata": {},
   "outputs": [],
   "source": [
    "# Define a pre-processing pipeline to transform input data\n",
    "preprocess_pipeline = make_pipeline(\n",
    "    # AddColumnNames transformer adds column names to input data\n",
    "    AddColumnNames(columns=names_all),\n",
    "    FeatureUnion(transformer_list=[\n",
    "        # Pipeline for columns with outliers\n",
    "        (\"outlier_columns\", make_pipeline(\n",
    "            ColumnSelector(columns=names_outliers),# Select specified columns\n",
    "            FunctionTransformer(np.log, validate=True),# Logarithmic transformation\n",
    "            RobustScaler()# Scale the data using RobustScaler\n",
    "        )),\n",
    "        # Pipeline for columns without outliers\n",
    "        (\"no_outlier_columns\", make_pipeline(\n",
    "            ColumnSelector(columns=names_no_outliers),# Select specified columns\n",
    "            StandardScaler()# Scale the data using StandardScaler\n",
    "        ))\n",
    "    ])\n",
    ")"
   ]
  },
  {
   "cell_type": "code",
   "execution_count": 19,
   "metadata": {},
   "outputs": [],
   "source": [
    "# Separate the target variable and the input features\n",
    "y = df['insurance_cost']# target variable\n",
    "X = df.drop('insurance_cost', axis=1).values# input features\n",
    "\n",
    "# Split the data into training and testing sets\n",
    "X_train, X_test, y_train, y_test = train_test_split(X, y, test_size=0.2, shuffle=True)"
   ]
  },
  {
   "attachments": {},
   "cell_type": "markdown",
   "metadata": {},
   "source": [
    "### Random Forrest\n",
    "Create a pipeline for processing the Random Forrest model using a grid search."
   ]
  },
  {
   "cell_type": "code",
   "execution_count": 20,
   "metadata": {},
   "outputs": [],
   "source": [
    "# Define a scikit-learn pipeline for regression\n",
    "pipe = Pipeline(steps=[('preprocess', preprocess_pipeline),  # Data preprocessing steps\n",
    "                       ('reduce_dim', 'passthrough'), # Dimensionality reduction step, passthrough means no reduction\n",
    "                       ('regression', RandomForestRegressor(n_estimators=10))]) # Regression model: RandomForrest"
   ]
  },
  {
   "cell_type": "code",
   "execution_count": 21,
   "metadata": {},
   "outputs": [
    {
     "name": "stdout",
     "output_type": "stream",
     "text": [
      "Best CV score = 0.857:\n",
      "Best parameters:  {'reduce_dim': RFE(estimator=LinearRegression(), n_features_to_select=8), 'reduce_dim__n_features_to_select': 8, 'regression__max_depth': 4}\n"
     ]
    }
   ],
   "source": [
    "# Define a grid of hyperparameters to search over\n",
    "N_FEATURES_OPTIONS = [2, 4, 6, 8]\n",
    "MAX_DEPTH_OPTIONS = [2, 4, 6, 8]\n",
    "\n",
    "param_grid = [\n",
    "    # Use PCA for dimensionality reduction\n",
    "    {\n",
    "        'reduce_dim': [PCA(iterated_power=7)], # Use PCA with 7 iterations for dimensionality reduction\n",
    "        'reduce_dim__n_components': N_FEATURES_OPTIONS, # Vary number of components to keep\n",
    "        'regression__max_depth': MAX_DEPTH_OPTIONS # Vary maximum depth of decision trees in random forest\n",
    "    },\n",
    "    # Use recursive feature elimination (RFE) with two different models for dimensionality reduction\n",
    "    {\n",
    "        'reduce_dim': [RFE(svm.SVR(kernel='linear', gamma='auto')),RFE(LinearRegression())], # Use RFE with two different models for dimensionality reduction\n",
    "        'reduce_dim__n_features_to_select': N_FEATURES_OPTIONS, # Vary number of features to keep\n",
    "        'regression__max_depth': MAX_DEPTH_OPTIONS # Vary maximum depth of decision trees in random forest\n",
    "    }  \n",
    "]\n",
    "\n",
    "# Perform grid search over the hyperparameters defined above\n",
    "search = GridSearchCV(pipe, param_grid, n_jobs=-1, cv=5, refit=True) # Use 5-fold cross-validation for evaluation\n",
    "search.fit(X_train, y_train) # Fit the search object on training data\n",
    "\n",
    "# Print best cross-validation score and corresponding hyperparameters\n",
    "print(\"Best CV score = %0.3f:\" % search.best_score_)\n",
    "print(\"Best parameters: \", search.best_params_)\n",
    "\n",
    "# Store the best parameters and best model for later use\n",
    "RF_best_params = search.best_params_\n",
    "RF_best_model = search.best_estimator_"
   ]
  },
  {
   "attachments": {},
   "cell_type": "markdown",
   "metadata": {},
   "source": [
    "### Linear Regression\n",
    "Create a pipeline for processing the Random Forrest model using a grid search."
   ]
  },
  {
   "cell_type": "code",
   "execution_count": 22,
   "metadata": {},
   "outputs": [],
   "source": [
    "# Define a scikit-learn pipeline for regression\n",
    "pipe = Pipeline(steps=[('preprocess', preprocess_pipeline),  # Data preprocessing steps\n",
    "                       ('reduce_dim', 'passthrough'), # Dimensionality reduction step, passthrough means no reduction\n",
    "                       ('regression', LinearRegression())]) # Regression model: LinearRegression\n"
   ]
  },
  {
   "cell_type": "code",
   "execution_count": 23,
   "metadata": {},
   "outputs": [
    {
     "name": "stdout",
     "output_type": "stream",
     "text": [
      "Best CV score = 0.745:\n",
      "Best parameters:  {'reduce_dim': RFE(estimator=LinearRegression(), n_features_to_select=4), 'reduce_dim__n_features_to_select': 4}\n"
     ]
    }
   ],
   "source": [
    "# Define a grid of hyperparameters to search over\n",
    "N_FEATURES_OPTIONS = [2, 4, 6, 8]\n",
    "NORMALIZE_OPTIONS = [False, True]\n",
    "\n",
    "param_grid = [\n",
    "    # Use PCA for dimensionality reduction\n",
    "    {\n",
    "        'reduce_dim': [PCA(iterated_power=7)], # Use PCA with 7 iterations for dimensionality reduction\n",
    "        'reduce_dim__n_components': N_FEATURES_OPTIONS  # Vary number of features to keep\n",
    "    },\n",
    "    # Use recursive feature elimination (RFE) with two different models for dimensionality reduction\n",
    "    {\n",
    "        'reduce_dim': [RFE(svm.SVR(kernel='linear', gamma='auto')),RFE(LinearRegression())], # Use RFE with two different models for dimensionality reduction\n",
    "        'reduce_dim__n_features_to_select': N_FEATURES_OPTIONS  # Vary number of features to keep\n",
    "    }  \n",
    "]\n",
    "\n",
    "# Perform grid search over the hyperparameters defined above\n",
    "search = GridSearchCV(pipe, param_grid, n_jobs=-1, cv=5, refit=True) # Use 5-fold cross-validation for evaluation\n",
    "search.fit(X_train, y_train)# Fit the search object on training data\n",
    "\n",
    "# Print best cross-validation score and corresponding hyperparameters\n",
    "print(\"Best CV score = %0.3f:\" % search.best_score_)\n",
    "print(\"Best parameters: \", search.best_params_)\n",
    "\n",
    "# Store the best parameters and best model for later use\n",
    "LR_best_params = search.best_params_\n",
    "LR_best_model = search.best_estimator_"
   ]
  },
  {
   "cell_type": "code",
   "execution_count": 24,
   "metadata": {},
   "outputs": [],
   "source": [
    "# Define a scikit-learn pipeline for regression\n",
    "pipe = Pipeline(steps=[('preprocess', preprocess_pipeline), # Data preprocessing steps\n",
    "                       ('reduce_dim', 'passthrough'), # Dimensionality reduction step, passthrough means no reduction\n",
    "                       ('regression', GradientBoostingRegressor())]) # Regression model: LinearRegression"
   ]
  },
  {
   "cell_type": "code",
   "execution_count": 25,
   "metadata": {},
   "outputs": [
    {
     "name": "stdout",
     "output_type": "stream",
     "text": [
      "Best CV score = 0.858:\n",
      "Best parameters:  {'reduce_dim': RFE(estimator=SVR(gamma='auto', kernel='linear'), n_features_to_select=6), 'reduce_dim__n_features_to_select': 6, 'regression__learning_rate': 0.1, 'regression__max_depth': 3, 'regression__n_estimators': 50}\n"
     ]
    }
   ],
   "source": [
    "# Define a grid of hyperparameters to search over\n",
    "N_FEATURES_OPTIONS = [2, 4, 6, 8]\n",
    "LEARNING_RATE = [0.1, 0.5, 1]\n",
    "ESTIMATORS = [50, 100, 200]\n",
    "MAX_DEPTH_OPTIONS = [3, 5, 7]\n",
    "\n",
    "param_grid = [    {\n",
    "    # Define a list of dictionaries that specify the parameter grid to search over\n",
    "        'reduce_dim': [PCA(iterated_power=7)],\n",
    "        'reduce_dim__n_components': N_FEATURES_OPTIONS,\n",
    "        'regression__learning_rate': LEARNING_RATE,\n",
    "        'regression__n_estimators': ESTIMATORS,\n",
    "        'regression__max_depth': MAX_DEPTH_OPTIONS\n",
    "    },\n",
    "     # Use recursive feature elimination with linear SVM or linear regression to reduce dimensionality\n",
    "    {\n",
    "        'reduce_dim': [RFE(svm.SVR(kernel='linear', gamma='auto')), RFE(LinearRegression())],\n",
    "        'reduce_dim__n_features_to_select': N_FEATURES_OPTIONS,\n",
    "        'regression__learning_rate': LEARNING_RATE,\n",
    "        'regression__n_estimators': ESTIMATORS,\n",
    "        'regression__max_depth': MAX_DEPTH_OPTIONS\n",
    "    }  \n",
    "]\n",
    "\n",
    "# Perform grid search over the hyperparameters defined above\n",
    "search = GridSearchCV(pipe, param_grid, n_jobs=-1, cv=5, refit=True) # Use 5-fold cross-validation for evaluation\n",
    "search.fit(X_train, y_train)# Fit the GridSearchCV object to the training data\n",
    "\n",
    "# Print the best cross-validation score and the corresponding parameters\n",
    "print(\"Best CV score = %0.3f:\" % search.best_score_)\n",
    "print(\"Best parameters: \", search.best_params_)\n",
    "\n",
    "# Store the best parameters and best model for later use\n",
    "GBR_best_params = search.best_params_\n",
    "GBR_best_model = search.best_estimator_"
   ]
  },
  {
   "attachments": {},
   "cell_type": "markdown",
   "metadata": {},
   "source": [
    "### Compare Regression Models\n",
    "\n",
    "Now we can evaluate the best models found by the grid search on the test dataset and compare their metrics:\n",
    "\n",
    "- mean squared error (MSE)\n",
    "- mean absolute error (MAE)\n",
    "- 1-relative squared error (R2)"
   ]
  },
  {
   "cell_type": "code",
   "execution_count": 26,
   "metadata": {},
   "outputs": [],
   "source": [
    "def evaluate_model(X_test, y_test, model, iterations=100):\n",
    "    \"\"\"\n",
    "    Evaluates a machine learning model by computing its mean squared error (MSE), mean absolute error (MAE), and \n",
    "    R^2 score over a specified number of iterations.\n",
    "    \n",
    "    Args:\n",
    "    X_test (numpy.ndarray): The feature matrix of the test set.\n",
    "    y_test (numpy.ndarray): The target array of the test set.\n",
    "    model (estimator object): The machine learning model to be evaluated.\n",
    "    iterations (int): The number of iterations to perform (default=100).\n",
    "    \n",
    "    Returns:\n",
    "    A tuple of the mean MSE, mean MAE, and mean R^2 score computed over the specified number of iterations.\n",
    "    \"\"\"\n",
    "    # Create empty lists to store the computed metrics\n",
    "    mse_list = []\n",
    "    mae_list = []\n",
    "    r2_list = []\n",
    "\n",
    "    # Perform the specified number of iterations\n",
    "    for i in range(iterations):\n",
    "        # Compute predictions for the test set\n",
    "        _predicted_values = model.predict(X_test)\n",
    "        \n",
    "        # Compute metrics\n",
    "        _mse = mean_squared_error(y_test, _predicted_values)\n",
    "        _mae = mean_absolute_error(y_test, _predicted_values)\n",
    "        _r2 = r2_score(y_test, _predicted_values)\n",
    "        \n",
    "        # Append the computed metrics to their respective lists\n",
    "        mse_list.append(_mse)\n",
    "        mae_list.append(_mae)\n",
    "        r2_list.append(_r2)\n",
    "\n",
    "    # Return the mean of each computed metric       \n",
    "    return np.mean(mse_list), np.mean(mae_list), np.mean(r2_list)"
   ]
  },
  {
   "cell_type": "code",
   "execution_count": 27,
   "metadata": {},
   "outputs": [
    {
     "data": {
      "text/html": [
       "<div>\n",
       "<style scoped>\n",
       "    .dataframe tbody tr th:only-of-type {\n",
       "        vertical-align: middle;\n",
       "    }\n",
       "\n",
       "    .dataframe tbody tr th {\n",
       "        vertical-align: top;\n",
       "    }\n",
       "\n",
       "    .dataframe thead th {\n",
       "        text-align: right;\n",
       "    }\n",
       "</style>\n",
       "<table border=\"1\" class=\"dataframe\">\n",
       "  <thead>\n",
       "    <tr style=\"text-align: right;\">\n",
       "      <th></th>\n",
       "      <th>MSE</th>\n",
       "      <th>MAE</th>\n",
       "      <th>R2</th>\n",
       "    </tr>\n",
       "    <tr>\n",
       "      <th>Model</th>\n",
       "      <th></th>\n",
       "      <th></th>\n",
       "      <th></th>\n",
       "    </tr>\n",
       "  </thead>\n",
       "  <tbody>\n",
       "    <tr>\n",
       "      <th>Random Forest</th>\n",
       "      <td>2.098333e+07</td>\n",
       "      <td>2596.932150</td>\n",
       "      <td>0.846614</td>\n",
       "    </tr>\n",
       "    <tr>\n",
       "      <th>Linear Regression</th>\n",
       "      <td>3.488195e+07</td>\n",
       "      <td>4051.951103</td>\n",
       "      <td>0.745017</td>\n",
       "    </tr>\n",
       "    <tr>\n",
       "      <th>Gradient Boosting</th>\n",
       "      <td>1.982846e+07</td>\n",
       "      <td>2454.237062</td>\n",
       "      <td>0.855056</td>\n",
       "    </tr>\n",
       "  </tbody>\n",
       "</table>\n",
       "</div>"
      ],
      "text/plain": [
       "                            MSE          MAE        R2\n",
       "Model                                                 \n",
       "Random Forest      2.098333e+07  2596.932150  0.846614\n",
       "Linear Regression  3.488195e+07  4051.951103  0.745017\n",
       "Gradient Boosting  1.982846e+07  2454.237062  0.855056"
      ]
     },
     "execution_count": 27,
     "metadata": {},
     "output_type": "execute_result"
    }
   ],
   "source": [
    "# Get the average value of model evaluation\n",
    "RF_mse, RF_mae, RF_r2 = evaluate_model(X_test, y_test, RF_best_model)\n",
    "LR_mse, LR_mae, LR_r2 = evaluate_model(X_test, y_test, LR_best_model)\n",
    "GBR_mse, GBR_mae, GBR_r2 = evaluate_model(X_test, y_test, GBR_best_model)\n",
    "\n",
    "# create a dictionary with the results\n",
    "results_dict = {'MSE': [RF_mse, LR_mse, GBR_mse],\n",
    "                'MAE': [RF_mae, LR_mae, GBR_mae],\n",
    "                'R2': [RF_r2, LR_r2, GBR_r2]}\n",
    "\n",
    "# set the index to the model names\n",
    "results_df = pd.DataFrame(results_dict, index=['Random Forest', 'Linear Regression', 'Gradient Boosting'])\n",
    "\n",
    "# display the dataframe with updated column names and index\n",
    "results_df.rename_axis('Model')\n"
   ]
  },
  {
   "cell_type": "code",
   "execution_count": 28,
   "metadata": {},
   "outputs": [
    {
     "data": {
      "image/png": "[encoded data removed]",
      "text/plain": [
       "<Figure size 2000x500 with 3 Axes>"
      ]
     },
     "metadata": {},
     "output_type": "display_data"
    }
   ],
   "source": [
    "# Plot Comparison data in a bar chart\n",
    "df_mse = pd.DataFrame({'Random Forest': RF_mse, 'Linear Regression': LR_mse, 'Gradient Boosting Regressor': GBR_mse}, index=['MSE'])\n",
    "df_mae = pd.DataFrame({'Random Forest': RF_mae, 'Linear Regression': LR_mae, 'Gradient Boosting Regressor': GBR_mae}, index=['MAE'])\n",
    "df_r2 = pd.DataFrame({'Random Forest': RF_r2, 'Linear Regression': LR_r2, 'Gradient Boosting Regressor': GBR_r2}, index=['R2'])\n",
    "\n",
    "fig, axes = plt.subplots(nrows=1, ncols=3, figsize=(20, 5))\n",
    "\n",
    "df_mse.plot.bar(rot=0, ax=axes[0])\n",
    "df_mae.plot.bar(rot=0, ax=axes[1])\n",
    "df_r2.plot.bar(rot=0, ax=axes[2])\n",
    "\n",
    "plt.show()"
   ]
  },
  {
   "attachments": {},
   "cell_type": "markdown",
   "metadata": {},
   "source": [
    "### Compare Regression Models\n",
    "\n",
    "The MSE and MAE scores measure the average difference between the actual and predicted values. A lower MSE and MAE indicate that the Model's predictions are closer to the actual values, which means the Model is better at accurately predicting the outcome. In this case, both Random Forest and Gradient Boosting have lower MSE and MAE than Linear Regression, indicating that they are better at accurately predicting the outcome.\n",
    "\n",
    "The R2 score measures how well the Model fits the data or how much of the variance in the outcome variable is explained by the Model. R2 scores range from 0 to 1, with higher values indicating a better fit. In this case, both Random Forest and Gradient Boosting have higher R2 scores than Linear Regression, suggesting that they fit the data better and explain more of the variance in the outcome variable.\n",
    "\n",
    "Therefore, based on these metrics, we can conclude that Gradient Boosting is the best-performing Model in this case, followed closely by Random Forest. Linear Regression, on the other hand, performed the worst among the three models.\n",
    "\n",
    "However, the Gradient Boosting Regression seems more computationally expensive as it took significantly longer to execute than either Linear Regression or Random Forrest Regression. As there is only a marginal difference between Gradient Boosting and Random Forrest, I have selected Random Forrest as the best Model.\n"
   ]
  },
  {
   "attachments": {},
   "cell_type": "markdown",
   "metadata": {},
   "source": [
    "### Final model Trained and Saved\n",
    "\n",
    "After selecting RandomForrest as the best model it is trained and save the model to the disk."
   ]
  },
  {
   "cell_type": "code",
   "execution_count": 29,
   "metadata": {},
   "outputs": [],
   "source": [
    "# function to remove the string 'regresson__' from the names of the best parameters\n",
    "def transform(dict, prefix):\n",
    "    dict_prefix = {key:value for key,value in dict.items() if prefix in key}\n",
    "    return {key.replace(prefix,''):value for key,value in dict_prefix.items()}\n",
    "\n",
    "pipe = make_pipeline(preprocess_pipeline, \n",
    "                     RF_best_params.get('reduce_dim'),\n",
    "                     RandomForestRegressor(n_estimators=10, **transform(RF_best_params, 'regresson__')))\n",
    "\n",
    "final_model =pipe.fit(X, y)"
   ]
  },
  {
   "cell_type": "code",
   "execution_count": 30,
   "metadata": {},
   "outputs": [],
   "source": [
    "filename = 'final_model.sav'\n",
    "pickle.dump(final_model, open(filename, 'wb'))"
   ]
  },
  {
   "attachments": {},
   "cell_type": "markdown",
   "metadata": {},
   "source": [
    "### Isomap & TruncatedSVD\n",
    "\n",
    "Isomap is a method that helps to represent high-dimensional data more simply, so we can better understand and analyze it. It does this by looking at the distances between data points and creating a map showing the relationships between them in a lower-dimensional space. This helps us to see patterns and structures in the data that might not be clear in the original high-dimensional space.\n",
    "\n",
    "Truncated SVD is a technique that helps to reduce the number of features or dimensions in a dataset while preserving the most critical information. It works by creating a new set of features that capture the most variation in the data and discarding the less important ones. TruncatedSVD can help simplify the data and make it easier to work while retaining the most critical information.\n"
   ]
  },
  {
   "cell_type": "code",
   "execution_count": 31,
   "metadata": {},
   "outputs": [],
   "source": [
    "from sklearn.manifold import Isomap\n",
    "from sklearn.decomposition import TruncatedSVD"
   ]
  },
  {
   "cell_type": "code",
   "execution_count": 32,
   "metadata": {},
   "outputs": [],
   "source": [
    "# Define a scikit-learn pipeline for regression\n",
    "pipe = Pipeline(steps=[('preprocess', preprocess_pipeline),  # Data preprocessing steps\n",
    "                       ('reduce_dim', 'passthrough'), # Dimensionality reduction step, passthrough means no reduction\n",
    "                       ('regression', LinearRegression())]) # Regression model: LinearRegression"
   ]
  },
  {
   "cell_type": "code",
   "execution_count": 33,
   "metadata": {},
   "outputs": [
    {
     "name": "stdout",
     "output_type": "stream",
     "text": [
      "Best CV score = 0.743:\n",
      "Best parameters:  {'reduce_dim': TruncatedSVD(n_components=8), 'reduce_dim__n_components': 8}\n"
     ]
    }
   ],
   "source": [
    "# Define the options for the number of features to reduce to\n",
    "N_FEATURES_OPTIONS = [2, 4, 6, 8]\n",
    "NEIGHBORS = [5, 10, 15]\n",
    "\n",
    "# Define the hyperparameter search space for the pipeline\n",
    "param_grid = [   \n",
    "     {\n",
    "         # Use Isomap for feature reduction with the options for number of components and neighbors to consider\n",
    "        'reduce_dim': [Isomap()],\n",
    "        'reduce_dim__n_components': N_FEATURES_OPTIONS,\n",
    "        'reduce_dim__n_neighbors': NEIGHBORS\n",
    "    },\n",
    "    {\n",
    "        # Use TruncatedSVD for feature reduction with the options for number of components to reduce to\n",
    "        'reduce_dim': [TruncatedSVD()],\n",
    "        'reduce_dim__n_components': N_FEATURES_OPTIONS\n",
    "    }\n",
    "]\n",
    "\n",
    "\n",
    "search = GridSearchCV(pipe, param_grid, n_jobs=-1, cv=5, refit=True)# Perform a grid search with 5-fold cross validation and refit the best model\n",
    "search.fit(X_train, y_train)# Fit the hyperparameter search to the training data\n",
    "\n",
    "# Print the best cross validation score and hyperparameters\n",
    "print(\"Best CV score = %0.3f:\" % search.best_score_)\n",
    "print(\"Best parameters: \", search.best_params_)\n",
    "\n",
    "# Store the best hyperparameters and model for later use\n",
    "LR_best_params = search.best_params_\n",
    "LR_best_model = search.best_estimator_"
   ]
  },
  {
   "cell_type": "code",
   "execution_count": 34,
   "metadata": {},
   "outputs": [],
   "source": [
    "# Define a scikit-learn pipeline for regression\n",
    "pipe = Pipeline(steps=[('preprocess', preprocess_pipeline),  # Data preprocessing steps\n",
    "                       ('reduce_dim', 'passthrough'), # Dimensionality reduction step, passthrough means no reduction\n",
    "                       ('regression', RandomForestRegressor())]) # Regression model: LinearRegression"
   ]
  },
  {
   "cell_type": "code",
   "execution_count": 35,
   "metadata": {},
   "outputs": [
    {
     "name": "stdout",
     "output_type": "stream",
     "text": [
      "Best CV score = 0.804:\n",
      "Best parameters:  {'reduce_dim': TruncatedSVD(n_components=8), 'reduce_dim__n_components': 8, 'regression__max_depth': 6, 'regression__n_estimators': 200}\n"
     ]
    }
   ],
   "source": [
    "N_FEATURES_OPTIONS = [2, 4, 6, 8]\n",
    "MAX_DEPTH_OPTIONS = [2, 4, 6, 8]\n",
    "NEIGHBORS = [5, 10, 15]\n",
    "ESTIMATORS = [50, 100, 200]\n",
    "\n",
    "param_grid = [    {\n",
    "        'reduce_dim': [Isomap()],\n",
    "        'reduce_dim__n_components': N_FEATURES_OPTIONS,\n",
    "        'reduce_dim__n_neighbors': NEIGHBORS,\n",
    "        'regression__n_estimators': ESTIMATORS,\n",
    "        'regression__max_depth': MAX_DEPTH_OPTIONS\n",
    "    },\n",
    "    {\n",
    "        'reduce_dim': [TruncatedSVD()],\n",
    "        'reduce_dim__n_components': N_FEATURES_OPTIONS,\n",
    "        'regression__n_estimators': ESTIMATORS,\n",
    "        'regression__max_depth': MAX_DEPTH_OPTIONS\n",
    "    }  \n",
    "]\n",
    "\n",
    "search = GridSearchCV(pipe, param_grid, n_jobs=-1, cv=5, refit=True)\n",
    "search.fit(X_train, y_train)\n",
    "\n",
    "print(\"Best CV score = %0.3f:\" % search.best_score_)\n",
    "print(\"Best parameters: \", search.best_params_)\n",
    "\n",
    "# store the best params and best model for later use\n",
    "RF_best_params = search.best_params_\n",
    "RF_best_model = search.best_estimator_"
   ]
  },
  {
   "cell_type": "code",
   "execution_count": 36,
   "metadata": {},
   "outputs": [
    {
     "data": {
      "text/html": [
       "<div>\n",
       "<style scoped>\n",
       "    .dataframe tbody tr th:only-of-type {\n",
       "        vertical-align: middle;\n",
       "    }\n",
       "\n",
       "    .dataframe tbody tr th {\n",
       "        vertical-align: top;\n",
       "    }\n",
       "\n",
       "    .dataframe thead th {\n",
       "        text-align: right;\n",
       "    }\n",
       "</style>\n",
       "<table border=\"1\" class=\"dataframe\">\n",
       "  <thead>\n",
       "    <tr style=\"text-align: right;\">\n",
       "      <th></th>\n",
       "      <th>MSE</th>\n",
       "      <th>MAE</th>\n",
       "      <th>R2</th>\n",
       "    </tr>\n",
       "    <tr>\n",
       "      <th>Model</th>\n",
       "      <th></th>\n",
       "      <th></th>\n",
       "      <th></th>\n",
       "    </tr>\n",
       "  </thead>\n",
       "  <tbody>\n",
       "    <tr>\n",
       "      <th>Random Forest</th>\n",
       "      <td>2.529711e+07</td>\n",
       "      <td>2981.561816</td>\n",
       "      <td>0.815081</td>\n",
       "    </tr>\n",
       "    <tr>\n",
       "      <th>Linear Regression</th>\n",
       "      <td>3.528207e+07</td>\n",
       "      <td>4079.673783</td>\n",
       "      <td>0.742093</td>\n",
       "    </tr>\n",
       "  </tbody>\n",
       "</table>\n",
       "</div>"
      ],
      "text/plain": [
       "                            MSE          MAE        R2\n",
       "Model                                                 \n",
       "Random Forest      2.529711e+07  2981.561816  0.815081\n",
       "Linear Regression  3.528207e+07  4079.673783  0.742093"
      ]
     },
     "execution_count": 36,
     "metadata": {},
     "output_type": "execute_result"
    }
   ],
   "source": [
    "# Get the average value of model evaluation\n",
    "RF_mse, RF_mae, RF_r2 = evaluate_model(X_test, y_test, RF_best_model)\n",
    "LR_mse, LR_mae, LR_r2 = evaluate_model(X_test, y_test, LR_best_model)\n",
    "\n",
    "# create a dictionary with the results\n",
    "results_dict = {'MSE': [RF_mse, LR_mse],\n",
    "                'MAE': [RF_mae, LR_mae],\n",
    "                'R2': [RF_r2, LR_r2]}\n",
    "\n",
    "# set the index to the model names\n",
    "results_df = pd.DataFrame(results_dict, index=['Random Forest', 'Linear Regression'])\n",
    "\n",
    "# display the dataframe with updated column names and index\n",
    "results_df.rename_axis('Model')"
   ]
  },
  {
   "cell_type": "code",
   "execution_count": 37,
   "metadata": {},
   "outputs": [
    {
     "data": {
      "text/plain": [
       "<AxesSubplot: >"
      ]
     },
     "execution_count": 37,
     "metadata": {},
     "output_type": "execute_result"
    },
    {
     "data": {
      "image/png": "[encoded data removed]",
      "text/plain": [
       "<Figure size 2000x500 with 3 Axes>"
      ]
     },
     "metadata": {},
     "output_type": "display_data"
    }
   ],
   "source": [
    "# Plot Comparison data in a bar chart\n",
    "df_mse = pd.DataFrame({'Random Forest': RF_mse, 'Linear Regression': LR_mse}, index=['MSE'])\n",
    "df_mae = pd.DataFrame({'Random Forest': RF_mae, 'Linear Regression': LR_mae}, index=['MAE'])\n",
    "df_r2 = pd.DataFrame({'Random Forest': RF_r2, 'Linear Regression': LR_r2}, index=['R2'])\n",
    "\n",
    "fig, axes = plt.subplots(nrows=1, ncols=3, figsize=(20, 5))\n",
    "\n",
    "df_mse.plot.bar(rot=0, ax=axes[0])\n",
    "df_mae.plot.bar(rot=0, ax=axes[1])\n",
    "df_r2.plot.bar(rot=0, ax=axes[2])\n"
   ]
  },
  {
   "attachments": {},
   "cell_type": "markdown",
   "metadata": {},
   "source": [
    "### Comparison\n",
    "\n",
    "Isomap and TruncatedSVD are two different techniques used to simplify high-dimensional data for analysis. \n",
    "\n",
    "Isomap creates a map showing the relationships between data points in a lower-dimensional space by considering their distances. This helps to reveal patterns and structures that may not be apparent in the original high-dimensional space. \n",
    "\n",
    "TruncatedSVD creates a new set of features that capture the most critical information in the data by reducing the number of features or dimensions. This helps to simplify the data while retaining the most critical information. \n",
    "\n",
    "When using these two dimensionality reduction techniques Random Forrest again performed better than Linear Regression. \n",
    "It was interesting to see that TruncatedSVD was selected as the best form of dimension reduction by GridSearch. \n",
    "\n",
    "I think there could be a few reasons for this. Truncated SVD is a linear dimensionality reduction technique, while Isomap is nonlinear. Linear methods may be more appropriate in some cases, especially when the relationships between features in the data are linear or when the data is high-dimensional but not very complex. Nonlinear methods like Isomap may be more useful for data that has complex or nonlinear relationships between features.\n",
    "\n",
    "Another reason for TruncatedSVD performing better could be my selection of hyperparameters. Isomap has several parameters that need to be tuned when constructing the graph, and I may not have selected the optimal parameters for my specific data. TruncatedSVD, on the other hand, has fewer hyperparameters and may be easier to tune for optimal performance.\n",
    "\n"
   ]
  }
 ],
 "metadata": {
  "kernelspec": {
   "display_name": "ai_and_finance",
   "language": "python",
   "name": "python3"
  },
  "language_info": {
   "codemirror_mode": {
    "name": "ipython",
    "version": 3
   },
   "file_extension": ".py",
   "mimetype": "text/x-python",
   "name": "python",
   "nbconvert_exporter": "python",
   "pygments_lexer": "ipython3",
   "version": "3.9.15"
  },
  "orig_nbformat": 4
 },
 "nbformat": 4,
 "nbformat_minor": 2
}
